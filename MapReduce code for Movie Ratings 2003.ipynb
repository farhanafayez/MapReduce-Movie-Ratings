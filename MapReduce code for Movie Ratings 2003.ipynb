{
 "cells": [
  {
   "cell_type": "code",
   "execution_count": 1,
   "metadata": {
    "collapsed": true
   },
   "outputs": [],
   "source": [
    "from mrjob.job import MRJob\n",
    "from mrjob.step import MRStep\n"
   ]
  },
  {
   "cell_type": "code",
   "execution_count": null,
   "metadata": {
    "collapsed": true
   },
   "outputs": [],
   "source": [
    "class RatingsBreakdown(MRJob):\n",
    "     def steps(self):\n",
    "         return [\n",
    "             MRStep(mapper=self.mapper_get_rating,\n",
    "                   reducer=self.reduce_count_ratings)\n",
    "         ]\n",
    "    \n",
    "     def mapper_get_ratings(self, _,line):\n",
    "        (userID, movieID, rating, timestamp) = line.split('\\t')\n",
    "        yield rating, 1\n",
    "        \n",
    "     def reducer_count_ratings(self, key, values):\n",
    "        yield key, sum(values)\n",
    "    \n",
    "if __name =='__main__':\n",
    "    RatingsBreakdown.run()"
   ]
  }
 ],
 "metadata": {
  "kernelspec": {
   "display_name": "Python [conda env:wolt]",
   "language": "python",
   "name": "conda-env-wolt-py"
  },
  "language_info": {
   "codemirror_mode": {
    "name": "ipython",
    "version": 2
   },
   "file_extension": ".py",
   "mimetype": "text/x-python",
   "name": "python",
   "nbconvert_exporter": "python",
   "pygments_lexer": "ipython2",
   "version": "2.7.13"
  }
 },
 "nbformat": 4,
 "nbformat_minor": 2
}
